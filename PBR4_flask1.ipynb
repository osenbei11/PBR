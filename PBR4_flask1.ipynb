{
  "nbformat": 4,
  "nbformat_minor": 0,
  "metadata": {
    "colab": {
      "provenance": []
    },
    "kernelspec": {
      "name": "python3",
      "display_name": "Python 3"
    },
    "language_info": {
      "name": "python"
    }
  },
  "cells": [
    {
      "cell_type": "markdown",
      "source": [
        "※開発環境はGoogleColabです。\n",
        "\n",
        "※Flaskを利用した簡単なwebアプリ\n",
        "(ティッカーを入力するとPBR推移をグラフ表示してくれるwebアプリ)"
      ],
      "metadata": {
        "id": "cMGIwaenv9QT"
      }
    },
    {
      "cell_type": "code",
      "execution_count": null,
      "metadata": {
        "colab": {
          "base_uri": "https://localhost:8080/"
        },
        "id": "TF_RwTGDcef7",
        "outputId": "868228da-c4a3-43fe-c72b-649154f57e02"
      },
      "outputs": [
        {
          "output_type": "stream",
          "name": "stdout",
          "text": [
            "Looking in indexes: https://pypi.org/simple, https://us-python.pkg.dev/colab-wheels/public/simple/\n",
            "Collecting flask-ngrok\n",
            "  Downloading flask_ngrok-0.0.25-py3-none-any.whl (3.1 kB)\n",
            "Requirement already satisfied: Flask>=0.8 in /usr/local/lib/python3.10/dist-packages (from flask-ngrok) (2.2.4)\n",
            "Requirement already satisfied: requests in /usr/local/lib/python3.10/dist-packages (from flask-ngrok) (2.27.1)\n",
            "Requirement already satisfied: Werkzeug>=2.2.2 in /usr/local/lib/python3.10/dist-packages (from Flask>=0.8->flask-ngrok) (2.3.0)\n",
            "Requirement already satisfied: Jinja2>=3.0 in /usr/local/lib/python3.10/dist-packages (from Flask>=0.8->flask-ngrok) (3.1.2)\n",
            "Requirement already satisfied: itsdangerous>=2.0 in /usr/local/lib/python3.10/dist-packages (from Flask>=0.8->flask-ngrok) (2.1.2)\n",
            "Requirement already satisfied: click>=8.0 in /usr/local/lib/python3.10/dist-packages (from Flask>=0.8->flask-ngrok) (8.1.3)\n",
            "Requirement already satisfied: urllib3<1.27,>=1.21.1 in /usr/local/lib/python3.10/dist-packages (from requests->flask-ngrok) (1.26.15)\n",
            "Requirement already satisfied: certifi>=2017.4.17 in /usr/local/lib/python3.10/dist-packages (from requests->flask-ngrok) (2022.12.7)\n",
            "Requirement already satisfied: charset-normalizer~=2.0.0 in /usr/local/lib/python3.10/dist-packages (from requests->flask-ngrok) (2.0.12)\n",
            "Requirement already satisfied: idna<4,>=2.5 in /usr/local/lib/python3.10/dist-packages (from requests->flask-ngrok) (3.4)\n",
            "Requirement already satisfied: MarkupSafe>=2.0 in /usr/local/lib/python3.10/dist-packages (from Jinja2>=3.0->Flask>=0.8->flask-ngrok) (2.1.2)\n",
            "Installing collected packages: flask-ngrok\n",
            "Successfully installed flask-ngrok-0.0.25\n"
          ]
        }
      ],
      "source": [
        "pip install flask-ngrok"
      ]
    },
    {
      "cell_type": "code",
      "source": [
        "pip install pyngrok"
      ],
      "metadata": {
        "colab": {
          "base_uri": "https://localhost:8080/"
        },
        "id": "37cIQm4vciZS",
        "outputId": "4915b4f9-b60c-44cd-a9b3-91b4b5dd161e"
      },
      "execution_count": null,
      "outputs": [
        {
          "output_type": "stream",
          "name": "stdout",
          "text": [
            "Looking in indexes: https://pypi.org/simple, https://us-python.pkg.dev/colab-wheels/public/simple/\n",
            "Collecting pyngrok\n",
            "  Downloading pyngrok-6.0.0.tar.gz (681 kB)\n",
            "\u001b[2K     \u001b[90m━━━━━━━━━━━━━━━━━━━━━━━━━━━━━━━━━━━━━━\u001b[0m \u001b[32m681.2/681.2 kB\u001b[0m \u001b[31m11.7 MB/s\u001b[0m eta \u001b[36m0:00:00\u001b[0m\n",
            "\u001b[?25h  Preparing metadata (setup.py) ... \u001b[?25l\u001b[?25hdone\n",
            "Requirement already satisfied: PyYAML in /usr/local/lib/python3.10/dist-packages (from pyngrok) (6.0)\n",
            "Building wheels for collected packages: pyngrok\n",
            "  Building wheel for pyngrok (setup.py) ... \u001b[?25l\u001b[?25hdone\n",
            "  Created wheel for pyngrok: filename=pyngrok-6.0.0-py3-none-any.whl size=19867 sha256=f66f29efee222679f57ad8c72f65f3adb8eb25c906e792113895837af369cd22\n",
            "  Stored in directory: /root/.cache/pip/wheels/5c/42/78/0c3d438d7f5730451a25f7ac6cbf4391759d22a67576ed7c2c\n",
            "Successfully built pyngrok\n",
            "Installing collected packages: pyngrok\n",
            "Successfully installed pyngrok-6.0.0\n"
          ]
        }
      ]
    },
    {
      "cell_type": "code",
      "source": [
        "!ngrok authtoken 2PpZDo2bmgfzmMzJ7JUJygYqGk8_65PPrsCudD6e6yipr1pGr"
      ],
      "metadata": {
        "colab": {
          "base_uri": "https://localhost:8080/"
        },
        "id": "GE_rz05Rclkd",
        "outputId": "59303954-079b-46aa-9a0b-0948448b49c6"
      },
      "execution_count": null,
      "outputs": [
        {
          "output_type": "stream",
          "name": "stdout",
          "text": [
            "Authtoken saved to configuration file: /root/.ngrok2/ngrok.yml\n"
          ]
        }
      ]
    },
    {
      "cell_type": "code",
      "source": [
        "#Google認証\n",
        "from google.colab import auth\n",
        "auth.authenticate_user()\n",
        "import gspread\n",
        "from google.auth import default\n",
        "creds, _ = default()\n",
        "gc = gspread.authorize(creds)"
      ],
      "metadata": {
        "id": "GewcKslbCzsj"
      },
      "execution_count": null,
      "outputs": []
    },
    {
      "cell_type": "code",
      "source": [
        "pip install yahooquery"
      ],
      "metadata": {
        "colab": {
          "base_uri": "https://localhost:8080/"
        },
        "id": "IcDpL5fTC7bC",
        "outputId": "df6d785b-fa5c-4456-9eee-fb01a77fbe45"
      },
      "execution_count": null,
      "outputs": [
        {
          "output_type": "stream",
          "name": "stdout",
          "text": [
            "Looking in indexes: https://pypi.org/simple, https://us-python.pkg.dev/colab-wheels/public/simple/\n",
            "Collecting yahooquery\n",
            "  Downloading yahooquery-2.3.1-py2.py3-none-any.whl (49 kB)\n",
            "\u001b[2K     \u001b[90m━━━━━━━━━━━━━━━━━━━━━━━━━━━━━━━━━━━━━━━━\u001b[0m \u001b[32m49.8/49.8 kB\u001b[0m \u001b[31m2.0 MB/s\u001b[0m eta \u001b[36m0:00:00\u001b[0m\n",
            "\u001b[?25hRequirement already satisfied: lxml>=4.9.1 in /usr/local/lib/python3.10/dist-packages (from yahooquery) (4.9.2)\n",
            "Requirement already satisfied: pandas>=0.24.0 in /usr/local/lib/python3.10/dist-packages (from yahooquery) (1.5.3)\n",
            "Collecting requests-futures>=1.0.0 (from yahooquery)\n",
            "  Downloading requests_futures-1.0.0-py2.py3-none-any.whl (7.4 kB)\n",
            "Requirement already satisfied: tqdm>=4.54.1 in /usr/local/lib/python3.10/dist-packages (from yahooquery) (4.65.0)\n",
            "Requirement already satisfied: python-dateutil>=2.8.1 in /usr/local/lib/python3.10/dist-packages (from pandas>=0.24.0->yahooquery) (2.8.2)\n",
            "Requirement already satisfied: pytz>=2020.1 in /usr/local/lib/python3.10/dist-packages (from pandas>=0.24.0->yahooquery) (2022.7.1)\n",
            "Requirement already satisfied: numpy>=1.21.0 in /usr/local/lib/python3.10/dist-packages (from pandas>=0.24.0->yahooquery) (1.22.4)\n",
            "Requirement already satisfied: requests>=1.2.0 in /usr/local/lib/python3.10/dist-packages (from requests-futures>=1.0.0->yahooquery) (2.27.1)\n",
            "Requirement already satisfied: six>=1.5 in /usr/local/lib/python3.10/dist-packages (from python-dateutil>=2.8.1->pandas>=0.24.0->yahooquery) (1.16.0)\n",
            "Requirement already satisfied: urllib3<1.27,>=1.21.1 in /usr/local/lib/python3.10/dist-packages (from requests>=1.2.0->requests-futures>=1.0.0->yahooquery) (1.26.15)\n",
            "Requirement already satisfied: certifi>=2017.4.17 in /usr/local/lib/python3.10/dist-packages (from requests>=1.2.0->requests-futures>=1.0.0->yahooquery) (2022.12.7)\n",
            "Requirement already satisfied: charset-normalizer~=2.0.0 in /usr/local/lib/python3.10/dist-packages (from requests>=1.2.0->requests-futures>=1.0.0->yahooquery) (2.0.12)\n",
            "Requirement already satisfied: idna<4,>=2.5 in /usr/local/lib/python3.10/dist-packages (from requests>=1.2.0->requests-futures>=1.0.0->yahooquery) (3.4)\n",
            "Installing collected packages: requests-futures, yahooquery\n",
            "Successfully installed requests-futures-1.0.0 yahooquery-2.3.1\n"
          ]
        }
      ]
    },
    {
      "cell_type": "code",
      "source": [
        "from yahooquery import Ticker\n",
        "\n",
        "import pandas_datareader.data as web\n",
        "import datetime as dt\n",
        "\n",
        "from tqdm import tqdm\n",
        "import pandas as pd\n",
        "import numpy as np\n",
        "import matplotlib.pyplot as plt"
      ],
      "metadata": {
        "id": "dpSw5AQqC_wb"
      },
      "execution_count": null,
      "outputs": []
    },
    {
      "cell_type": "code",
      "source": [
        "def PBR(ticker):\n",
        "    # ====まずは東証プライム全銘柄のBSデータをデータフレームとして取得====\n",
        "\n",
        "    #spreadsheetを開く（BSデータ）\n",
        "    url = \"https://docs.google.com/spreadsheets/d/1SxMC3GUKHCHCPUX4NTuhU6rDeVrmR3aIMqA-hNVJbIc/edit#gid=1407125800\"\n",
        "    ss = gc.open_by_url(url)\n",
        "\n",
        "    sheet3 = ss.get_worksheet(2) #3枚目のシート取得\n",
        "    all_values_bs = sheet3.get_all_values() # シートの全データを取得\n",
        "    df_bs = pd.DataFrame.from_records(all_values_bs) # pandasで読み込み\n",
        "\n",
        "    # 1行目が列名になっているので、列名に変換して1行目は削除\n",
        "    new_columns = df_bs.iloc[0, :] # 1行目の値を取得する\n",
        "    df_bs = df_bs.rename(columns=new_columns) # 列の名前を変更する\n",
        "    df_bs = df_bs.drop(0) #1行目は削除\n",
        "    # 必要な列のみ抽出\n",
        "    desired_columns = [\"symbol\", \"asOfDate\", \"StockholdersEquity\", \"ShareIssued\"]\n",
        "    df_bs = df_bs[desired_columns]\n",
        "    # 日付をobjectからdatetimeに変換\n",
        "    df_bs[\"asOfDate\"] = pd.to_datetime(df_bs[\"asOfDate\"]) \n",
        "    # 欠損値2点のある行を削除\n",
        "    df_bs = df_bs.drop(df_bs[(df_bs[\"symbol\"] == \"3053.T\") & (df_bs[\"asOfDate\"].dt.year == 2019)].index)\n",
        "    df_bs = df_bs.drop(df_bs[(df_bs[\"symbol\"] == \"7944.T\") & (df_bs[\"asOfDate\"].dt.year == 2019)].index)\n",
        "    # StockholdersEquity(株主資本)とShareIssued(発行済み株式数)をstrからfloatに変更\n",
        "    df_bs[\"StockholdersEquity\"] = df_bs[\"StockholdersEquity\"].astype(float)\n",
        "    df_bs[\"ShareIssued\"] = df_bs[\"ShareIssued\"].astype(float)\n",
        "\n",
        "\n",
        "    # ====ここから先は、求めたいtickerについての情報処理====\n",
        "\n",
        "    # df_bsからtickerの情報のみを抽出\n",
        "    ticker_t = str(ticker) + '.T'\n",
        "    df_bs_ticker = df_bs[df_bs[\"symbol\"] == ticker_t] # 該当銘柄の行をすべて抽出\n",
        "    df_bs_ticker = df_bs_ticker.set_index('asOfDate') # 日付をindexに変更\n",
        "\n",
        "    # tickerの株価取得\n",
        "    start = df_bs_ticker.index[0]\n",
        "    end = df_bs_ticker.index[-1] + pd.offsets.DateOffset(years=1) - pd.offsets.DateOffset(days=1) \n",
        "\n",
        "    price = Ticker(ticker_t).history(start=start, end=end).droplevel(level='symbol') # 株価取得\n",
        "    price.index = pd.to_datetime(price.index) # indexをobjectからdatetimeに変換\n",
        "    price = price.loc[:, \"close\"] # 終値だけ抽出\n",
        "\n",
        "    # PBRを計算するための3要素を用意\n",
        "    # PBR =　時価総額（株価price * 発行数ShareIssued） / 株主資本StockholdersEquity\n",
        "\n",
        "    # 株主資本=se\n",
        "    se_0 = df_bs_ticker.loc[df_bs_ticker.index[0], 'StockholdersEquity']\n",
        "    if len(df_bs_ticker.index) > 1:\n",
        "        se_1 = df_bs_ticker.loc[df_bs_ticker.index[1], 'StockholdersEquity']\n",
        "    if len(df_bs_ticker.index) > 2:\n",
        "        se_2 = df_bs_ticker.loc[df_bs_ticker.index[2], 'StockholdersEquity']\n",
        "    if len(df_bs_ticker.index) > 3:\n",
        "        se_3 = df_bs_ticker.loc[df_bs_ticker.index[3], 'StockholdersEquity']\n",
        "    if len(df_bs_ticker.index) > 4:\n",
        "        se_4 = df_bs_ticker.loc[df_bs_ticker.index[4], 'StockholdersEquity']\n",
        "\n",
        "    # 株式発行数=si\n",
        "    si_0 = df_bs_ticker.loc[df_bs_ticker.index[0], 'ShareIssued']\n",
        "    if len(df_bs_ticker.index) > 1:\n",
        "        si_1 = df_bs_ticker.loc[df_bs_ticker.index[1], 'ShareIssued']\n",
        "    if len(df_bs_ticker.index) > 2:\n",
        "        si_2 = df_bs_ticker.loc[df_bs_ticker.index[2], 'ShareIssued']\n",
        "    if len(df_bs_ticker.index) > 3:\n",
        "        si_3 = df_bs_ticker.loc[df_bs_ticker.index[3], 'ShareIssued']\n",
        "    if len(df_bs_ticker.index) > 4:\n",
        "        si_4 = df_bs_ticker.loc[df_bs_ticker.index[4], 'ShareIssued']\n",
        "\n",
        "    # 株価=price\n",
        "    price_0 = price[df_bs_ticker.index[0]:df_bs_ticker.index[1] - pd.offsets.DateOffset(days=1)]\n",
        "\n",
        "    if len(df_bs_ticker.index) > 2:\n",
        "        price_1 = price[df_bs_ticker.index[1]:df_bs_ticker.index[2] - pd.offsets.DateOffset(days=1)]\n",
        "    elif len(df_bs_ticker.index) == 2:\n",
        "        price_1 = price[df_bs_ticker.index[1]:df_bs_ticker.index[1] + pd.offsets.DateOffset(years=1)- pd.offsets.DateOffset(days=1)]\n",
        "    else:\n",
        "        price_1 = None\n",
        "\n",
        "    if len(df_bs_ticker.index) > 3:\n",
        "        price_2 = price[df_bs_ticker.index[2]:df_bs_ticker.index[3] - pd.offsets.DateOffset(days=1)]\n",
        "    elif len(df_bs_ticker.index) == 3:\n",
        "        price_2 = price[df_bs_ticker.index[2]:df_bs_ticker.index[2] + pd.offsets.DateOffset(years=1)- pd.offsets.DateOffset(days=1)]\n",
        "    else:\n",
        "        price_2 = None\n",
        "        \n",
        "    if len(df_bs_ticker.index) > 4:\n",
        "        price_3 = price[df_bs_ticker.index[3]:df_bs_ticker.index[4] - pd.offsets.DateOffset(days=1)]\n",
        "    elif len(df_bs_ticker.index) == 4:\n",
        "        price_3 = price[df_bs_ticker.index[3]:df_bs_ticker.index[3] + pd.offsets.DateOffset(years=1)- pd.offsets.DateOffset(days=1)]\n",
        "    else:\n",
        "        price_3 = None\n",
        "\n",
        "    prices = pd.concat([price_0, price_1, price_2, price_3]) \n",
        "\n",
        "    # PBRを計算\n",
        "    pbr0 = price_0 * si_0 / se_0\n",
        "    pbr1 = price_1 * si_1 / se_1\n",
        "    if 'price_2' in locals() and 'si_2' in locals() and 'se_2' in locals():\n",
        "        pbr2 = price_2 * si_2 / se_2\n",
        "    else:\n",
        "        pbr2 = None\n",
        "    if 'price_3' in locals() and 'si_3' in locals() and 'se_3' in locals():\n",
        "        pbr3 = price_3 * si_3 / se_3\n",
        "    else:\n",
        "        pbr3 = None\n",
        "\n",
        "    # 求めた各年度のPBRを結合\n",
        "    pbr_connect = pd.concat([pbr0, pbr1, pbr2, pbr3])\n",
        "    \n",
        "    return pbr_connect"
      ],
      "metadata": {
        "id": "5jdjIypKcntN"
      },
      "execution_count": null,
      "outputs": []
    },
    {
      "cell_type": "code",
      "source": [
        "from flask import Flask, Response\n",
        "import pandas as pd\n",
        "import matplotlib.pyplot as plt\n",
        "from io import BytesIO\n",
        "from flask_ngrok import run_with_ngrok\n",
        "\n",
        "app = Flask(__name__)\n",
        "run_with_ngrok(app)  # Start ngrok when app is run\n",
        "\n",
        "@app.route(\"/<ticker>\")\n",
        "def plot_graph(ticker):\n",
        "    \n",
        "    df = PBR(ticker)\n",
        "\n",
        "    fig, ax = plt.subplots(figsize=(12, 6))  # figsizeを変更する\n",
        "    ax.plot(df.index, df.values, color='blue', label='PBR<1.0')\n",
        "    ax.plot(df[df >= 1.0].index,\n",
        "            df[df >= 1.0].values, color='red', linewidth=2.0, label='PBR>=1.0')\n",
        "    ax.set_xlabel('Date')\n",
        "    ax.set_ylabel('PBR')\n",
        "    ax.set_title(\"PBR of \" + str(ticker))\n",
        "    \n",
        "    # グラフを画像として保存\n",
        "    image_stream = BytesIO()\n",
        "    plt.savefig(image_stream, format='png')\n",
        "    image_stream.seek(0)\n",
        "    \n",
        "    # 画像をHTTPレスポンスとして返す\n",
        "    return Response(image_stream, mimetype='image/png')\n",
        "\n",
        "if __name__ == '__main__':\n",
        "    app.run()\n"
      ],
      "metadata": {
        "colab": {
          "base_uri": "https://localhost:8080/",
          "height": 1000
        },
        "id": "otwaSmUWB4Mc",
        "outputId": "321254a2-e253-4eda-a40d-7f1b4a4cbfb4"
      },
      "execution_count": null,
      "outputs": [
        {
          "output_type": "stream",
          "name": "stdout",
          "text": [
            " * Serving Flask app '__main__'\n",
            " * Debug mode: off\n"
          ]
        },
        {
          "output_type": "stream",
          "name": "stderr",
          "text": [
            "INFO:werkzeug:\u001b[31m\u001b[1mWARNING: This is a development server. Do not use it in a production deployment. Use a production WSGI server instead.\u001b[0m\n",
            " * Running on http://127.0.0.1:5000\n",
            "INFO:werkzeug:\u001b[33mPress CTRL+C to quit\u001b[0m\n"
          ]
        },
        {
          "output_type": "stream",
          "name": "stdout",
          "text": [
            " * Running on http://d5a1-34-171-20-42.ngrok-free.app\n",
            " * Traffic stats available on http://127.0.0.1:4040\n"
          ]
        },
        {
          "output_type": "stream",
          "name": "stderr",
          "text": [
            "INFO:werkzeug:127.0.0.1 - - [23/May/2023 19:52:16] \"\u001b[33mGET / HTTP/1.1\u001b[0m\" 404 -\n",
            "ERROR:__main__:Exception on /favicon.ico [GET]\n",
            "Traceback (most recent call last):\n",
            "  File \"/usr/local/lib/python3.10/dist-packages/flask/app.py\", line 2529, in wsgi_app\n",
            "    response = self.full_dispatch_request()\n",
            "  File \"/usr/local/lib/python3.10/dist-packages/flask/app.py\", line 1825, in full_dispatch_request\n",
            "    rv = self.handle_user_exception(e)\n",
            "  File \"/usr/local/lib/python3.10/dist-packages/flask/app.py\", line 1823, in full_dispatch_request\n",
            "    rv = self.dispatch_request()\n",
            "  File \"/usr/local/lib/python3.10/dist-packages/flask/app.py\", line 1799, in dispatch_request\n",
            "    return self.ensure_sync(self.view_functions[rule.endpoint])(**view_args)\n",
            "  File \"<ipython-input-27-270beeeff2b6>\", line 13, in plot_graph\n",
            "    df = PBR(ticker)\n",
            "  File \"<ipython-input-22-c1b1ce344fa4>\", line 37, in PBR\n",
            "    start = df_bs_ticker.index[0]\n",
            "  File \"/usr/local/lib/python3.10/dist-packages/pandas/core/indexes/base.py\", line 5320, in __getitem__\n",
            "    return getitem(key)\n",
            "  File \"/usr/local/lib/python3.10/dist-packages/pandas/core/arrays/datetimelike.py\", line 358, in __getitem__\n",
            "    \"Union[DatetimeLikeArrayT, DTScalarOrNaT]\", super().__getitem__(key)\n",
            "  File \"/usr/local/lib/python3.10/dist-packages/pandas/core/arrays/_mixins.py\", line 289, in __getitem__\n",
            "    result = self._ndarray[key]\n",
            "IndexError: index 0 is out of bounds for axis 0 with size 0\n",
            "INFO:werkzeug:127.0.0.1 - - [23/May/2023 19:52:19] \"\u001b[35m\u001b[1mGET /favicon.ico HTTP/1.1\u001b[0m\" 500 -\n",
            "INFO:werkzeug:127.0.0.1 - - [23/May/2023 19:52:25] \"GET /7912 HTTP/1.1\" 200 -\n",
            "ERROR:__main__:Exception on /favicon.ico [GET]\n",
            "Traceback (most recent call last):\n",
            "  File \"/usr/local/lib/python3.10/dist-packages/flask/app.py\", line 2529, in wsgi_app\n",
            "    response = self.full_dispatch_request()\n",
            "  File \"/usr/local/lib/python3.10/dist-packages/flask/app.py\", line 1825, in full_dispatch_request\n",
            "    rv = self.handle_user_exception(e)\n",
            "  File \"/usr/local/lib/python3.10/dist-packages/flask/app.py\", line 1823, in full_dispatch_request\n",
            "    rv = self.dispatch_request()\n",
            "  File \"/usr/local/lib/python3.10/dist-packages/flask/app.py\", line 1799, in dispatch_request\n",
            "    return self.ensure_sync(self.view_functions[rule.endpoint])(**view_args)\n",
            "  File \"<ipython-input-27-270beeeff2b6>\", line 13, in plot_graph\n",
            "    df = PBR(ticker)\n",
            "  File \"<ipython-input-22-c1b1ce344fa4>\", line 37, in PBR\n",
            "    start = df_bs_ticker.index[0]\n",
            "  File \"/usr/local/lib/python3.10/dist-packages/pandas/core/indexes/base.py\", line 5320, in __getitem__\n",
            "    return getitem(key)\n",
            "  File \"/usr/local/lib/python3.10/dist-packages/pandas/core/arrays/datetimelike.py\", line 358, in __getitem__\n",
            "    \"Union[DatetimeLikeArrayT, DTScalarOrNaT]\", super().__getitem__(key)\n",
            "  File \"/usr/local/lib/python3.10/dist-packages/pandas/core/arrays/_mixins.py\", line 289, in __getitem__\n",
            "    result = self._ndarray[key]\n",
            "IndexError: index 0 is out of bounds for axis 0 with size 0\n",
            "INFO:werkzeug:127.0.0.1 - - [23/May/2023 19:52:27] \"\u001b[35m\u001b[1mGET /favicon.ico HTTP/1.1\u001b[0m\" 500 -\n"
          ]
        },
        {
          "output_type": "display_data",
          "data": {
            "text/plain": [
              "<Figure size 1200x600 with 1 Axes>"
            ],
            "image/png": "[encoded data removed]"
          },
          "metadata": {}
        }
      ]
    }
  ]
}