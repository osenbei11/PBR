{
  "nbformat": 4,
  "nbformat_minor": 0,
  "metadata": {
    "colab": {
      "provenance": []
    },
    "kernelspec": {
      "name": "python3",
      "display_name": "Python 3"
    },
    "language_info": {
      "name": "python"
    }
  },
  "cells": [
    {
      "cell_type": "markdown",
      "source": [
        "※開発環境はGoogle Colabです。\n",
        "\n",
        "**0.概要**\n",
        "\n",
        "東証プライムの企業のPBRの推移データを計算してグラフで表示させたい。\n",
        "\n",
        "*   PBR =　時価総額（株価 * 発行数） / 株主資本\n",
        "\n",
        "計算をするために、まずは必要なデータを取得する。\n",
        "\n",
        "プライムの全銘柄のティッカーを取得。\n",
        "さらに、バランスシートのデータ（過去２～４年分）を取得。\n",
        "バランスシートは、企業が決算時に公開している。（つまり１年につき１～数回程度公開）\n",
        "\n",
        "取得したデータは、すぐに取り出せるようにスプレットシートに保存してデータベース化。（毎回サーバーから全銘柄のデータを一括取得すると時間がかかる）\n",
        "\n",
        "※発行数・株主資本はバランスシートのデータに含まれている。\n",
        "\n",
        "※株価データについては、データベース化せずに、PBRを計算する際に各銘柄個別で取得する。バランスシートは年１～数個程度しかデータがないが、株価は毎日データがあり、量が多いのでデータベース化しない。\n",
        "計算する際に個別で取得すればさほど時間もかからない。"
      ],
      "metadata": {
        "id": "R9gQ_2Z1oKVz"
      }
    },
    {
      "cell_type": "markdown",
      "source": [
        "**1.必要なライブラリのインポート等（環境設定）**"
      ],
      "metadata": {
        "id": "NImsrem1q674"
      }
    },
    {
      "cell_type": "code",
      "source": [
        "# yahooqueryから金融指標を取得できる\n",
        "!pip install yahooquery"
      ],
      "metadata": {
        "colab": {
          "base_uri": "https://localhost:8080/"
        },
        "id": "K3yzf93eMfLu",
        "outputId": "fa341dd3-c670-4273-d72a-7849c6ab5197"
      },
      "execution_count": 3,
      "outputs": [
        {
          "output_type": "stream",
          "name": "stdout",
          "text": [
            "Looking in indexes: https://pypi.org/simple, https://us-python.pkg.dev/colab-wheels/public/simple/\n",
            "Collecting yahooquery\n",
            "  Downloading yahooquery-2.3.1-py2.py3-none-any.whl (49 kB)\n",
            "\u001b[2K     \u001b[90m━━━━━━━━━━━━━━━━━━━━━━━━━━━━━━━━━━━━━━━━\u001b[0m \u001b[32m49.8/49.8 kB\u001b[0m \u001b[31m2.7 MB/s\u001b[0m eta \u001b[36m0:00:00\u001b[0m\n",
            "\u001b[?25hRequirement already satisfied: lxml>=4.9.1 in /usr/local/lib/python3.10/dist-packages (from yahooquery) (4.9.2)\n",
            "Requirement already satisfied: pandas>=0.24.0 in /usr/local/lib/python3.10/dist-packages (from yahooquery) (1.5.3)\n",
            "Collecting requests-futures>=1.0.0 (from yahooquery)\n",
            "  Downloading requests_futures-1.0.0-py2.py3-none-any.whl (7.4 kB)\n",
            "Requirement already satisfied: tqdm>=4.54.1 in /usr/local/lib/python3.10/dist-packages (from yahooquery) (4.65.0)\n",
            "Requirement already satisfied: python-dateutil>=2.8.1 in /usr/local/lib/python3.10/dist-packages (from pandas>=0.24.0->yahooquery) (2.8.2)\n",
            "Requirement already satisfied: pytz>=2020.1 in /usr/local/lib/python3.10/dist-packages (from pandas>=0.24.0->yahooquery) (2022.7.1)\n",
            "Requirement already satisfied: numpy>=1.21.0 in /usr/local/lib/python3.10/dist-packages (from pandas>=0.24.0->yahooquery) (1.22.4)\n",
            "Requirement already satisfied: requests>=1.2.0 in /usr/local/lib/python3.10/dist-packages (from requests-futures>=1.0.0->yahooquery) (2.27.1)\n",
            "Requirement already satisfied: six>=1.5 in /usr/local/lib/python3.10/dist-packages (from python-dateutil>=2.8.1->pandas>=0.24.0->yahooquery) (1.16.0)\n",
            "Requirement already satisfied: urllib3<1.27,>=1.21.1 in /usr/local/lib/python3.10/dist-packages (from requests>=1.2.0->requests-futures>=1.0.0->yahooquery) (1.26.15)\n",
            "Requirement already satisfied: certifi>=2017.4.17 in /usr/local/lib/python3.10/dist-packages (from requests>=1.2.0->requests-futures>=1.0.0->yahooquery) (2022.12.7)\n",
            "Requirement already satisfied: charset-normalizer~=2.0.0 in /usr/local/lib/python3.10/dist-packages (from requests>=1.2.0->requests-futures>=1.0.0->yahooquery) (2.0.12)\n",
            "Requirement already satisfied: idna<4,>=2.5 in /usr/local/lib/python3.10/dist-packages (from requests>=1.2.0->requests-futures>=1.0.0->yahooquery) (3.4)\n",
            "Installing collected packages: requests-futures, yahooquery\n",
            "Successfully installed requests-futures-1.0.0 yahooquery-2.3.1\n"
          ]
        }
      ]
    },
    {
      "cell_type": "code",
      "execution_count": 4,
      "metadata": {
        "id": "xfquARo_JWSd"
      },
      "outputs": [],
      "source": [
        "# yahooqueryのライブラリを読み込む\n",
        "from yahooquery import Ticker\n",
        "\n",
        "from tqdm import tqdm\n",
        "import pandas as pd\n",
        "import numpy as np\n",
        "import matplotlib.pyplot as plt"
      ]
    },
    {
      "cell_type": "code",
      "source": [
        "#Google認証\n",
        "from google.colab import auth\n",
        "auth.authenticate_user()\n",
        "import gspread\n",
        "from google.auth import default\n",
        "creds, _ = default()\n",
        "gc = gspread.authorize(creds)"
      ],
      "metadata": {
        "id": "WY4eh4XCLil2"
      },
      "execution_count": 5,
      "outputs": []
    },
    {
      "cell_type": "markdown",
      "source": [
        "**2.東証プライム全銘柄のティッカー(4桁の数字)をスプレットシートに記録**\n",
        "\n",
        "APIで金融指標データを取得するときに、4桁のティッカーが必要になる。\n",
        "\n",
        "yahooqueryのAPIで日本株のデータを取得するときには、ティッカーの末尾に\".T\"を付ける必要があるので、全銘柄の末尾に\".T\"を付けてシートに記入。\n"
      ],
      "metadata": {
        "id": "DPhIMcPcrDX5"
      }
    },
    {
      "cell_type": "code",
      "source": [
        "#spreadsheetを開く（東証上場銘柄一覧）\n",
        "url = \"https://docs.google.com/spreadsheets/d/1SxMC3GUKHCHCPUX4NTuhU6rDeVrmR3aIMqA-hNVJbIc/edit#gid=1407125800\"\n",
        "ss = gc.open_by_url(url)\n",
        "\n",
        "worksheet0 = ss.get_worksheet(0) #一枚目のシート取得\n",
        "all_values = worksheet0.get_all_values() # 一枚目のシートの全データを取得\n",
        "df_alltokyo = pd.DataFrame.from_records(all_values) # pandasで読み込み"
      ],
      "metadata": {
        "id": "CvgH-jPMOvwY"
      },
      "execution_count": 6,
      "outputs": []
    },
    {
      "cell_type": "code",
      "source": [
        "# プライム銘柄のみを抽出(ETFやリートは不要)（データが多いので、ひとまずスタンダード、グロースはスルー）\n",
        "df_prime = df_alltokyo[df_alltokyo[3].isin([\"プライム（内国株式）\"])]\n",
        "# ティッカーと銘柄名のみ抽出\n",
        "df_prime = df_prime.iloc[:, [1, 2]]\n",
        "# 列名をつける\n",
        "df_prime.columns = ['Ticker', 'Name']\n",
        "# Tickerの末尾に\".T\"をつける\n",
        "df_prime.insert(loc=1, column='Ticker.T', value=df_prime.iloc[:, 0].astype(str) + '.T')\n",
        "\n",
        "df_prime"
      ],
      "metadata": {
        "id": "xp_Bgm5EVrAZ",
        "colab": {
          "base_uri": "https://localhost:8080/",
          "height": 424
        },
        "outputId": "97b587cc-4dac-4fce-bcd2-b8e1f09c6bb7"
      },
      "execution_count": 7,
      "outputs": [
        {
          "output_type": "execute_result",
          "data": {
            "text/plain": [
              "     Ticker Ticker.T             Name\n",
              "1      1301   1301.T               極洋\n",
              "17     1332   1332.T             ニッスイ\n",
              "18     1333   1333.T           マルハニチロ\n",
              "34     1375   1375.T           雪国まいたけ\n",
              "36     1377   1377.T           サカタのタネ\n",
              "...     ...      ...              ...\n",
              "4246   9989   9989.T           サンドラッグ\n",
              "4247   9990   9990.T  サックスバー　ホールディングス\n",
              "4248   9991   9991.T             ジェコス\n",
              "4251   9995   9995.T            グローセル\n",
              "4253   9997   9997.T             ベルーナ\n",
              "\n",
              "[1834 rows x 3 columns]"
            ],
            "text/html": [
              "\n",
              "  <div id=\"df-645526bb-46f7-49c1-a824-911b803fe6c0\">\n",
              "    <div class=\"colab-df-container\">\n",
              "      <div>\n",
              "<style scoped>\n",
              "    .dataframe tbody tr th:only-of-type {\n",
              "        vertical-align: middle;\n",
              "    }\n",
              "\n",
              "    .dataframe tbody tr th {\n",
              "        vertical-align: top;\n",
              "    }\n",
              "\n",
              "    .dataframe thead th {\n",
              "        text-align: right;\n",
              "    }\n",
              "</style>\n",
              "<table border=\"1\" class=\"dataframe\">\n",
              "  <thead>\n",
              "    <tr style=\"text-align: right;\">\n",
              "      <th></th>\n",
              "      <th>Ticker</th>\n",
              "      <th>Ticker.T</th>\n",
              "      <th>Name</th>\n",
              "    </tr>\n",
              "  </thead>\n",
              "  <tbody>\n",
              "    <tr>\n",
              "      <th>1</th>\n",
              "      <td>1301</td>\n",
              "      <td>1301.T</td>\n",
              "      <td>極洋</td>\n",
              "    </tr>\n",
              "    <tr>\n",
              "      <th>17</th>\n",
              "      <td>1332</td>\n",
              "      <td>1332.T</td>\n",
              "      <td>ニッスイ</td>\n",
              "    </tr>\n",
              "    <tr>\n",
              "      <th>18</th>\n",
              "      <td>1333</td>\n",
              "      <td>1333.T</td>\n",
              "      <td>マルハニチロ</td>\n",
              "    </tr>\n",
              "    <tr>\n",
              "      <th>34</th>\n",
              "      <td>1375</td>\n",
              "      <td>1375.T</td>\n",
              "      <td>雪国まいたけ</td>\n",
              "    </tr>\n",
              "    <tr>\n",
              "      <th>36</th>\n",
              "      <td>1377</td>\n",
              "      <td>1377.T</td>\n",
              "      <td>サカタのタネ</td>\n",
              "    </tr>\n",
              "    <tr>\n",
              "      <th>...</th>\n",
              "      <td>...</td>\n",
              "      <td>...</td>\n",
              "      <td>...</td>\n",
              "    </tr>\n",
              "    <tr>\n",
              "      <th>4246</th>\n",
              "      <td>9989</td>\n",
              "      <td>9989.T</td>\n",
              "      <td>サンドラッグ</td>\n",
              "    </tr>\n",
              "    <tr>\n",
              "      <th>4247</th>\n",
              "      <td>9990</td>\n",
              "      <td>9990.T</td>\n",
              "      <td>サックスバー　ホールディングス</td>\n",
              "    </tr>\n",
              "    <tr>\n",
              "      <th>4248</th>\n",
              "      <td>9991</td>\n",
              "      <td>9991.T</td>\n",
              "      <td>ジェコス</td>\n",
              "    </tr>\n",
              "    <tr>\n",
              "      <th>4251</th>\n",
              "      <td>9995</td>\n",
              "      <td>9995.T</td>\n",
              "      <td>グローセル</td>\n",
              "    </tr>\n",
              "    <tr>\n",
              "      <th>4253</th>\n",
              "      <td>9997</td>\n",
              "      <td>9997.T</td>\n",
              "      <td>ベルーナ</td>\n",
              "    </tr>\n",
              "  </tbody>\n",
              "</table>\n",
              "<p>1834 rows × 3 columns</p>\n",
              "</div>\n",
              "      <button class=\"colab-df-convert\" onclick=\"convertToInteractive('df-645526bb-46f7-49c1-a824-911b803fe6c0')\"\n",
              "              title=\"Convert this dataframe to an interactive table.\"\n",
              "              style=\"display:none;\">\n",
              "        \n",
              "  <svg xmlns=\"http://www.w3.org/2000/svg\" height=\"24px\"viewBox=\"0 0 24 24\"\n",
              "       width=\"24px\">\n",
              "    <path d=\"M0 0h24v24H0V0z\" fill=\"none\"/>\n",
              "    <path d=\"M18.56 5.44l.94 2.06.94-2.06 2.06-.94-2.06-.94-.94-2.06-.94 2.06-2.06.94zm-11 1L8.5 8.5l.94-2.06 2.06-.94-2.06-.94L8.5 2.5l-.94 2.06-2.06.94zm10 10l.94 2.06.94-2.06 2.06-.94-2.06-.94-.94-2.06-.94 2.06-2.06.94z\"/><path d=\"M17.41 7.96l-1.37-1.37c-.4-.4-.92-.59-1.43-.59-.52 0-1.04.2-1.43.59L10.3 9.45l-7.72 7.72c-.78.78-.78 2.05 0 2.83L4 21.41c.39.39.9.59 1.41.59.51 0 1.02-.2 1.41-.59l7.78-7.78 2.81-2.81c.8-.78.8-2.07 0-2.86zM5.41 20L4 18.59l7.72-7.72 1.47 1.35L5.41 20z\"/>\n",
              "  </svg>\n",
              "      </button>\n",
              "      \n",
              "  <style>\n",
              "    .colab-df-container {\n",
              "      display:flex;\n",
              "      flex-wrap:wrap;\n",
              "      gap: 12px;\n",
              "    }\n",
              "\n",
              "    .colab-df-convert {\n",
              "      background-color: #E8F0FE;\n",
              "      border: none;\n",
              "      border-radius: 50%;\n",
              "      cursor: pointer;\n",
              "      display: none;\n",
              "      fill: #1967D2;\n",
              "      height: 32px;\n",
              "      padding: 0 0 0 0;\n",
              "      width: 32px;\n",
              "    }\n",
              "\n",
              "    .colab-df-convert:hover {\n",
              "      background-color: #E2EBFA;\n",
              "      box-shadow: 0px 1px 2px rgba(60, 64, 67, 0.3), 0px 1px 3px 1px rgba(60, 64, 67, 0.15);\n",
              "      fill: #174EA6;\n",
              "    }\n",
              "\n",
              "    [theme=dark] .colab-df-convert {\n",
              "      background-color: #3B4455;\n",
              "      fill: #D2E3FC;\n",
              "    }\n",
              "\n",
              "    [theme=dark] .colab-df-convert:hover {\n",
              "      background-color: #434B5C;\n",
              "      box-shadow: 0px 1px 3px 1px rgba(0, 0, 0, 0.15);\n",
              "      filter: drop-shadow(0px 1px 2px rgba(0, 0, 0, 0.3));\n",
              "      fill: #FFFFFF;\n",
              "    }\n",
              "  </style>\n",
              "\n",
              "      <script>\n",
              "        const buttonEl =\n",
              "          document.querySelector('#df-645526bb-46f7-49c1-a824-911b803fe6c0 button.colab-df-convert');\n",
              "        buttonEl.style.display =\n",
              "          google.colab.kernel.accessAllowed ? 'block' : 'none';\n",
              "\n",
              "        async function convertToInteractive(key) {\n",
              "          const element = document.querySelector('#df-645526bb-46f7-49c1-a824-911b803fe6c0');\n",
              "          const dataTable =\n",
              "            await google.colab.kernel.invokeFunction('convertToInteractive',\n",
              "                                                     [key], {});\n",
              "          if (!dataTable) return;\n",
              "\n",
              "          const docLinkHtml = 'Like what you see? Visit the ' +\n",
              "            '<a target=\"_blank\" href=https://colab.research.google.com/notebooks/data_table.ipynb>data table notebook</a>'\n",
              "            + ' to learn more about interactive tables.';\n",
              "          element.innerHTML = '';\n",
              "          dataTable['output_type'] = 'display_data';\n",
              "          await google.colab.output.renderOutput(dataTable, element);\n",
              "          const docLink = document.createElement('div');\n",
              "          docLink.innerHTML = docLinkHtml;\n",
              "          element.appendChild(docLink);\n",
              "        }\n",
              "      </script>\n",
              "    </div>\n",
              "  </div>\n",
              "  "
            ]
          },
          "metadata": {},
          "execution_count": 7
        }
      ]
    },
    {
      "cell_type": "markdown",
      "source": [
        "**3.各銘柄のBS(バランスシート)のデータ（過去２～４年）を取得してシートに記入**"
      ],
      "metadata": {
        "id": "UlH6aLjSsWC8"
      }
    },
    {
      "cell_type": "code",
      "source": [
        "# データフレームをGoogleスプレッドシートに書き出す\n",
        "!pip install gspread_dataframe"
      ],
      "metadata": {
        "colab": {
          "base_uri": "https://localhost:8080/"
        },
        "id": "QByJ3t7vz393",
        "outputId": "515cf020-9b9e-4b51-880d-586344cb0e5b"
      },
      "execution_count": null,
      "outputs": [
        {
          "output_type": "stream",
          "name": "stdout",
          "text": [
            "Looking in indexes: https://pypi.org/simple, https://us-python.pkg.dev/colab-wheels/public/simple/\n",
            "Requirement already satisfied: gspread_dataframe in /usr/local/lib/python3.10/dist-packages (3.0.8)\n",
            "Requirement already satisfied: pandas>=0.14.0 in /usr/local/lib/python3.10/dist-packages (from gspread_dataframe) (1.5.3)\n",
            "Requirement already satisfied: gspread>=3.0.0 in /usr/local/lib/python3.10/dist-packages (from gspread_dataframe) (3.4.2)\n",
            "Requirement already satisfied: google-auth in /usr/local/lib/python3.10/dist-packages (from gspread>=3.0.0->gspread_dataframe) (2.17.3)\n",
            "Requirement already satisfied: requests>=2.2.1 in /usr/local/lib/python3.10/dist-packages (from gspread>=3.0.0->gspread_dataframe) (2.27.1)\n",
            "Requirement already satisfied: numpy>=1.21.0 in /usr/local/lib/python3.10/dist-packages (from pandas>=0.14.0->gspread_dataframe) (1.22.4)\n",
            "Requirement already satisfied: python-dateutil>=2.8.1 in /usr/local/lib/python3.10/dist-packages (from pandas>=0.14.0->gspread_dataframe) (2.8.2)\n",
            "Requirement already satisfied: pytz>=2020.1 in /usr/local/lib/python3.10/dist-packages (from pandas>=0.14.0->gspread_dataframe) (2022.7.1)\n",
            "Requirement already satisfied: six>=1.5 in /usr/local/lib/python3.10/dist-packages (from python-dateutil>=2.8.1->pandas>=0.14.0->gspread_dataframe) (1.16.0)\n",
            "Requirement already satisfied: urllib3<1.27,>=1.21.1 in /usr/local/lib/python3.10/dist-packages (from requests>=2.2.1->gspread>=3.0.0->gspread_dataframe) (1.26.15)\n",
            "Requirement already satisfied: certifi>=2017.4.17 in /usr/local/lib/python3.10/dist-packages (from requests>=2.2.1->gspread>=3.0.0->gspread_dataframe) (2022.12.7)\n",
            "Requirement already satisfied: idna<4,>=2.5 in /usr/local/lib/python3.10/dist-packages (from requests>=2.2.1->gspread>=3.0.0->gspread_dataframe) (3.4)\n",
            "Requirement already satisfied: charset-normalizer~=2.0.0 in /usr/local/lib/python3.10/dist-packages (from requests>=2.2.1->gspread>=3.0.0->gspread_dataframe) (2.0.12)\n",
            "Requirement already satisfied: cachetools<6.0,>=2.0.0 in /usr/local/lib/python3.10/dist-packages (from google-auth->gspread>=3.0.0->gspread_dataframe) (5.3.0)\n",
            "Requirement already satisfied: rsa<5,>=3.1.4 in /usr/local/lib/python3.10/dist-packages (from google-auth->gspread>=3.0.0->gspread_dataframe) (4.9)\n",
            "Requirement already satisfied: pyasn1-modules>=0.2.1 in /usr/local/lib/python3.10/dist-packages (from google-auth->gspread>=3.0.0->gspread_dataframe) (0.3.0)\n",
            "Requirement already satisfied: pyasn1<0.6.0,>=0.4.6 in /usr/local/lib/python3.10/dist-packages (from pyasn1-modules>=0.2.1->google-auth->gspread>=3.0.0->gspread_dataframe) (0.5.0)\n"
          ]
        }
      ]
    },
    {
      "cell_type": "code",
      "source": [
        "# gspread_dataframeのライブラリをインポート\n",
        "from gspread_dataframe import set_with_dataframe"
      ],
      "metadata": {
        "id": "EwKd0i7y0FyN"
      },
      "execution_count": null,
      "outputs": []
    },
    {
      "cell_type": "code",
      "source": [
        "ss.add_worksheet(title=\"Sheet2\", rows=1834, cols=3)"
      ],
      "metadata": {
        "colab": {
          "base_uri": "https://localhost:8080/"
        },
        "id": "c7V_dbPVLpW6",
        "outputId": "1d03246f-069c-4432-9abb-39c07dd82ef4"
      },
      "execution_count": null,
      "outputs": [
        {
          "output_type": "execute_result",
          "data": {
            "text/plain": [
              "<Worksheet 'Sheet2' id:1011082154>"
            ]
          },
          "metadata": {},
          "execution_count": 20
        }
      ]
    },
    {
      "cell_type": "code",
      "source": [
        "# df_primeをワークシートに書き出し\n",
        "set_with_dataframe(ss.worksheet(\"Sheet2\"), df_prime, include_index=True)"
      ],
      "metadata": {
        "id": "ny-f74TNGcEE"
      },
      "execution_count": null,
      "outputs": []
    },
    {
      "cell_type": "code",
      "source": [
        "# 全銘柄のB/S情報を取得\n",
        "bs = Ticker(df_prime[\"Ticker.T\"]).balance_sheet()"
      ],
      "metadata": {
        "id": "u7vNhLVcNWyM"
      },
      "execution_count": null,
      "outputs": []
    },
    {
      "cell_type": "code",
      "source": [
        "type(bs)"
      ],
      "metadata": {
        "colab": {
          "base_uri": "https://localhost:8080/"
        },
        "id": "TDy-SHFIG4BF",
        "outputId": "a799b749-d6c4-40f0-95e8-ec6ebf2d829f"
      },
      "execution_count": null,
      "outputs": [
        {
          "output_type": "execute_result",
          "data": {
            "text/plain": [
              "pandas.core.frame.DataFrame"
            ]
          },
          "metadata": {},
          "execution_count": 29
        }
      ]
    },
    {
      "cell_type": "code",
      "source": [
        "# 新しいシート追加\n",
        "ss.add_worksheet(title=\"Sheet3_BS\", rows=5865, cols=129)\n",
        "# bsをシートに書き出し\n",
        "set_with_dataframe(ss.worksheet(\"Sheet3_BS\"), bs, include_index=True)"
      ],
      "metadata": {
        "id": "S7BE8GqUGycf"
      },
      "execution_count": null,
      "outputs": []
    }
  ]
}